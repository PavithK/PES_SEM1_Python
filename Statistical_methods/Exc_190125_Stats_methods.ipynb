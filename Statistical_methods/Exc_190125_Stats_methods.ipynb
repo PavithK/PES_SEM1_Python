{
 "cells": [
  {
   "cell_type": "code",
   "execution_count": 1,
   "id": "0202f03d-7769-4b5a-8358-339880788a07",
   "metadata": {},
   "outputs": [],
   "source": [
    "import pyforest"
   ]
  },
  {
   "cell_type": "markdown",
   "id": "5ca5df1c-e6d1-4ca9-96d8-8f9b8a83c78f",
   "metadata": {},
   "source": [
    "Problem statement - 2\n",
    "Restaurant manager claims that the average total bill is more in dinner than lunch. Validate the claim at 5 % level of significance"
   ]
  },
  {
   "cell_type": "code",
   "execution_count": null,
   "id": "70857806-933e-4250-a522-62c1596e48d9",
   "metadata": {},
   "outputs": [],
   "source": [
    "#Step 0 : Assumptions"
   ]
  }
 ],
 "metadata": {
  "kernelspec": {
   "display_name": "Python 3 (ipykernel)",
   "language": "python",
   "name": "python3"
  },
  "language_info": {
   "codemirror_mode": {
    "name": "ipython",
    "version": 3
   },
   "file_extension": ".py",
   "mimetype": "text/x-python",
   "name": "python",
   "nbconvert_exporter": "python",
   "pygments_lexer": "ipython3",
   "version": "3.12.4"
  }
 },
 "nbformat": 4,
 "nbformat_minor": 5
}
