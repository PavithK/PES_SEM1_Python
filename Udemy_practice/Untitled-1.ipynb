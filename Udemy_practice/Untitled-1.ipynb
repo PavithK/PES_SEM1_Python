{
 "cells": [
  {
   "cell_type": "code",
   "execution_count": 1,
   "metadata": {},
   "outputs": [
    {
     "name": "stdout",
     "output_type": "stream",
     "text": [
      "Hello Git!\n"
     ]
    }
   ],
   "source": [
    "print(\"Hello Git!\")"
   ]
  },
  {
   "cell_type": "code",
   "execution_count": 2,
   "metadata": {},
   "outputs": [
    {
     "name": "stdout",
     "output_type": "stream",
     "text": [
      "Select operation:\n",
      "1. Add\n",
      "2. Subtract\n",
      "3. Multiply\n",
      "4. Divide\n",
      "5. Power\n",
      "6. Square Root\n",
      "7. Sine\n",
      "8. Cosine\n",
      "9. Tangent\n",
      "10. Logarithm\n",
      "sin(90.0) = 1.0\n"
     ]
    }
   ],
   "source": [
    "import math\n",
    "\n",
    "def add(x, y):\n",
    "    return x + y\n",
    "\n",
    "def subtract(x, y):\n",
    "    return x - y\n",
    "\n",
    "def multiply(x, y):\n",
    "    return x * y\n",
    "\n",
    "def divide(x, y):\n",
    "    if y == 0:\n",
    "        return \"Error! Division by zero.\"\n",
    "    return x / y\n",
    "\n",
    "def power(x, y):\n",
    "    return math.pow(x, y)\n",
    "\n",
    "def sqrt(x):\n",
    "    return math.sqrt(x)\n",
    "\n",
    "def sin(x):\n",
    "    return math.sin(math.radians(x))\n",
    "\n",
    "def cos(x):\n",
    "    return math.cos(math.radians(x))\n",
    "\n",
    "def tan(x):\n",
    "    return math.tan(math.radians(x))\n",
    "\n",
    "def log(x, base=10):\n",
    "    return math.log(x, base)\n",
    "\n",
    "def calculator():\n",
    "    print(\"Select operation:\")\n",
    "    print(\"1. Add\")\n",
    "    print(\"2. Subtract\")\n",
    "    print(\"3. Multiply\")\n",
    "    print(\"4. Divide\")\n",
    "    print(\"5. Power\")\n",
    "    print(\"6. Square Root\")\n",
    "    print(\"7. Sine\")\n",
    "    print(\"8. Cosine\")\n",
    "    print(\"9. Tangent\")\n",
    "    print(\"10. Logarithm\")\n",
    "\n",
    "    while True:\n",
    "        choice = input(\"Enter choice(1/2/3/4/5/6/7/8/9/10): \")\n",
    "\n",
    "        if choice in ['1', '2', '3', '4', '5']:\n",
    "            num1 = float(input(\"Enter first number: \"))\n",
    "            num2 = float(input(\"Enter second number: \"))\n",
    "\n",
    "            if choice == '1':\n",
    "                print(f\"{num1} + {num2} = {add(num1, num2)}\")\n",
    "\n",
    "            elif choice == '2':\n",
    "                print(f\"{num1} - {num2} = {subtract(num1, num2)}\")\n",
    "\n",
    "            elif choice == '3':\n",
    "                print(f\"{num1} * {num2} = {multiply(num1, num2)}\")\n",
    "\n",
    "            elif choice == '4':\n",
    "                print(f\"{num1} / {num2} = {divide(num1, num2)}\")\n",
    "\n",
    "            elif choice == '5':\n",
    "                print(f\"{num1} ^ {num2} = {power(num1, num2)}\")\n",
    "\n",
    "        elif choice in ['6', '7', '8', '9', '10']:\n",
    "            num = float(input(\"Enter number: \"))\n",
    "\n",
    "            if choice == '6':\n",
    "                print(f\"√{num} = {sqrt(num)}\")\n",
    "\n",
    "            elif choice == '7':\n",
    "                print(f\"sin({num}) = {sin(num)}\")\n",
    "\n",
    "            elif choice == '8':\n",
    "                print(f\"cos({num}) = {cos(num)}\")\n",
    "\n",
    "            elif choice == '9':\n",
    "                print(f\"tan({num}) = {tan(num)}\")\n",
    "\n",
    "            elif choice == '10':\n",
    "                base = float(input(\"Enter base (default is 10): \") or 10)\n",
    "                print(f\"log({num}, {base}) = {log(num, base)}\")\n",
    "\n",
    "        else:\n",
    "            print(\"Invalid Input\")\n",
    "\n",
    "        next_calculation = input(\"Do you want to perform another calculation? (yes/no): \")\n",
    "        if next_calculation.lower() != 'yes':\n",
    "            break\n",
    "\n",
    "if __name__ == \"__main__\":\n",
    "    calculator()"
   ]
  },
  {
   "cell_type": "code",
   "execution_count": null,
   "metadata": {},
   "outputs": [],
   "source": []
  }
 ],
 "metadata": {
  "kernelspec": {
   "display_name": "base",
   "language": "python",
   "name": "python3"
  },
  "language_info": {
   "codemirror_mode": {
    "name": "ipython",
    "version": 3
   },
   "file_extension": ".py",
   "mimetype": "text/x-python",
   "name": "python",
   "nbconvert_exporter": "python",
   "pygments_lexer": "ipython3",
   "version": "3.12.4"
  }
 },
 "nbformat": 4,
 "nbformat_minor": 2
}
