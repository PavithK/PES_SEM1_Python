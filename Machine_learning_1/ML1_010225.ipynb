{
 "cells": [
  {
   "cell_type": "code",
   "execution_count": 3,
   "id": "e6d185b2-c34d-4d42-9cee-7125aedb87c2",
   "metadata": {},
   "outputs": [],
   "source": [
    "import pandas as pd\n",
    "import numpy as np"
   ]
  },
  {
   "cell_type": "code",
   "execution_count": 15,
   "id": "894e5b8d-0dc8-4710-9176-a04a5bf84271",
   "metadata": {},
   "outputs": [],
   "source": [
    "df = pd.DataFrame({'Product Type': ['a','b','c',np.nan,'d',''],'Sales':[10,np.nan,30,50,np.nan,60]})"
   ]
  },
  {
   "cell_type": "code",
   "execution_count": 17,
   "id": "ade28b6c-d85a-4542-9dcb-cd3c3f7a53e5",
   "metadata": {},
   "outputs": [
    {
     "data": {
      "text/html": [
       "<div>\n",
       "<style scoped>\n",
       "    .dataframe tbody tr th:only-of-type {\n",
       "        vertical-align: middle;\n",
       "    }\n",
       "\n",
       "    .dataframe tbody tr th {\n",
       "        vertical-align: top;\n",
       "    }\n",
       "\n",
       "    .dataframe thead th {\n",
       "        text-align: right;\n",
       "    }\n",
       "</style>\n",
       "<table border=\"1\" class=\"dataframe\">\n",
       "  <thead>\n",
       "    <tr style=\"text-align: right;\">\n",
       "      <th></th>\n",
       "      <th>Product Type</th>\n",
       "      <th>Sales</th>\n",
       "    </tr>\n",
       "  </thead>\n",
       "  <tbody>\n",
       "    <tr>\n",
       "      <th>0</th>\n",
       "      <td>a</td>\n",
       "      <td>10.0</td>\n",
       "    </tr>\n",
       "    <tr>\n",
       "      <th>1</th>\n",
       "      <td>b</td>\n",
       "      <td>NaN</td>\n",
       "    </tr>\n",
       "    <tr>\n",
       "      <th>2</th>\n",
       "      <td>c</td>\n",
       "      <td>30.0</td>\n",
       "    </tr>\n",
       "    <tr>\n",
       "      <th>3</th>\n",
       "      <td>NaN</td>\n",
       "      <td>50.0</td>\n",
       "    </tr>\n",
       "    <tr>\n",
       "      <th>4</th>\n",
       "      <td>d</td>\n",
       "      <td>NaN</td>\n",
       "    </tr>\n",
       "    <tr>\n",
       "      <th>5</th>\n",
       "      <td></td>\n",
       "      <td>60.0</td>\n",
       "    </tr>\n",
       "  </tbody>\n",
       "</table>\n",
       "</div>"
      ],
      "text/plain": [
       "  Product Type  Sales\n",
       "0            a   10.0\n",
       "1            b    NaN\n",
       "2            c   30.0\n",
       "3          NaN   50.0\n",
       "4            d    NaN\n",
       "5                60.0"
      ]
     },
     "execution_count": 17,
     "metadata": {},
     "output_type": "execute_result"
    }
   ],
   "source": [
    "df"
   ]
  },
  {
   "cell_type": "code",
   "execution_count": 23,
   "id": "414cac04-9454-41bf-8093-3855099526ac",
   "metadata": {},
   "outputs": [
    {
     "data": {
      "text/html": [
       "<div>\n",
       "<style scoped>\n",
       "    .dataframe tbody tr th:only-of-type {\n",
       "        vertical-align: middle;\n",
       "    }\n",
       "\n",
       "    .dataframe tbody tr th {\n",
       "        vertical-align: top;\n",
       "    }\n",
       "\n",
       "    .dataframe thead th {\n",
       "        text-align: right;\n",
       "    }\n",
       "</style>\n",
       "<table border=\"1\" class=\"dataframe\">\n",
       "  <thead>\n",
       "    <tr style=\"text-align: right;\">\n",
       "      <th></th>\n",
       "      <th>Product Type</th>\n",
       "      <th>Sales</th>\n",
       "    </tr>\n",
       "  </thead>\n",
       "  <tbody>\n",
       "    <tr>\n",
       "      <th>count</th>\n",
       "      <td>5</td>\n",
       "      <td>4.000000</td>\n",
       "    </tr>\n",
       "    <tr>\n",
       "      <th>unique</th>\n",
       "      <td>5</td>\n",
       "      <td>NaN</td>\n",
       "    </tr>\n",
       "    <tr>\n",
       "      <th>top</th>\n",
       "      <td>a</td>\n",
       "      <td>NaN</td>\n",
       "    </tr>\n",
       "    <tr>\n",
       "      <th>freq</th>\n",
       "      <td>1</td>\n",
       "      <td>NaN</td>\n",
       "    </tr>\n",
       "    <tr>\n",
       "      <th>mean</th>\n",
       "      <td>NaN</td>\n",
       "      <td>37.500000</td>\n",
       "    </tr>\n",
       "    <tr>\n",
       "      <th>std</th>\n",
       "      <td>NaN</td>\n",
       "      <td>22.173558</td>\n",
       "    </tr>\n",
       "    <tr>\n",
       "      <th>min</th>\n",
       "      <td>NaN</td>\n",
       "      <td>10.000000</td>\n",
       "    </tr>\n",
       "    <tr>\n",
       "      <th>25%</th>\n",
       "      <td>NaN</td>\n",
       "      <td>25.000000</td>\n",
       "    </tr>\n",
       "    <tr>\n",
       "      <th>50%</th>\n",
       "      <td>NaN</td>\n",
       "      <td>40.000000</td>\n",
       "    </tr>\n",
       "    <tr>\n",
       "      <th>75%</th>\n",
       "      <td>NaN</td>\n",
       "      <td>52.500000</td>\n",
       "    </tr>\n",
       "    <tr>\n",
       "      <th>max</th>\n",
       "      <td>NaN</td>\n",
       "      <td>60.000000</td>\n",
       "    </tr>\n",
       "  </tbody>\n",
       "</table>\n",
       "</div>"
      ],
      "text/plain": [
       "       Product Type      Sales\n",
       "count             5   4.000000\n",
       "unique            5        NaN\n",
       "top               a        NaN\n",
       "freq              1        NaN\n",
       "mean            NaN  37.500000\n",
       "std             NaN  22.173558\n",
       "min             NaN  10.000000\n",
       "25%             NaN  25.000000\n",
       "50%             NaN  40.000000\n",
       "75%             NaN  52.500000\n",
       "max             NaN  60.000000"
      ]
     },
     "execution_count": 23,
     "metadata": {},
     "output_type": "execute_result"
    }
   ],
   "source": [
    "df.describe(include='all')"
   ]
  },
  {
   "cell_type": "code",
   "execution_count": 45,
   "id": "5108662b-5511-4bc2-ac9a-5c64c5ac65e1",
   "metadata": {},
   "outputs": [
    {
     "data": {
      "text/plain": [
       "Product Type    1\n",
       "Sales           2\n",
       "dtype: int64"
      ]
     },
     "execution_count": 45,
     "metadata": {},
     "output_type": "execute_result"
    }
   ],
   "source": [
    "df.isnull().sum() #Column wise total number of standard missing values"
   ]
  },
  {
   "cell_type": "code",
   "execution_count": 59,
   "id": "7b845fe3-59fa-4623-be7b-484129a5eda6",
   "metadata": {},
   "outputs": [
    {
     "data": {
      "text/plain": [
       "Product Type    16.666667\n",
       "Sales           33.333333\n",
       "dtype: float64"
      ]
     },
     "execution_count": 59,
     "metadata": {},
     "output_type": "execute_result"
    }
   ],
   "source": [
    "df.isnull().sum()/len(df) *100 #Percentage of missing values in each column"
   ]
  },
  {
   "cell_type": "code",
   "execution_count": 69,
   "id": "3a1d5453-086a-46d0-a538-79435cc2c510",
   "metadata": {},
   "outputs": [
    {
     "data": {
      "text/plain": [
       "2"
      ]
     },
     "execution_count": 69,
     "metadata": {},
     "output_type": "execute_result"
    }
   ],
   "source": [
    "df.shape[1]"
   ]
  },
  {
   "cell_type": "markdown",
   "id": "f75ff5c2-d28c-4174-84e9-2a02670c935a",
   "metadata": {},
   "source": [
    "# Why do we fill missing values - Machine learning model does not accept missing values"
   ]
  },
  {
   "cell_type": "code",
   "execution_count": 76,
   "id": "02df2cfd-82e8-4967-9980-ab35f0b4f38b",
   "metadata": {},
   "outputs": [],
   "source": [
    "df1 = pd.read_csv('C:/Users/pavit/OneDrive/GITHUB/PES_SEM1_Python/Machine_learning_1/bigmartsales-cleaned.csv')"
   ]
  },
  {
   "cell_type": "code",
   "execution_count": 78,
   "id": "a9f6fb02-c298-431a-8c43-d7c109208682",
   "metadata": {},
   "outputs": [
    {
     "data": {
      "text/html": [
       "<div>\n",
       "<style scoped>\n",
       "    .dataframe tbody tr th:only-of-type {\n",
       "        vertical-align: middle;\n",
       "    }\n",
       "\n",
       "    .dataframe tbody tr th {\n",
       "        vertical-align: top;\n",
       "    }\n",
       "\n",
       "    .dataframe thead th {\n",
       "        text-align: right;\n",
       "    }\n",
       "</style>\n",
       "<table border=\"1\" class=\"dataframe\">\n",
       "  <thead>\n",
       "    <tr style=\"text-align: right;\">\n",
       "      <th></th>\n",
       "      <th>Item_Identifier</th>\n",
       "      <th>Item_Weight</th>\n",
       "      <th>Item_Fat_Content</th>\n",
       "      <th>Item_Visibility</th>\n",
       "      <th>Item_Type</th>\n",
       "      <th>Item_MRP</th>\n",
       "      <th>Outlet_Identifier</th>\n",
       "      <th>Outlet_Establishment_Year</th>\n",
       "      <th>Outlet_Size</th>\n",
       "      <th>Outlet_Location_Type</th>\n",
       "      <th>Outlet_Type</th>\n",
       "      <th>Item_Outlet_Sales</th>\n",
       "      <th>Profit</th>\n",
       "    </tr>\n",
       "  </thead>\n",
       "  <tbody>\n",
       "    <tr>\n",
       "      <th>0</th>\n",
       "      <td>FDA15</td>\n",
       "      <td>9.300</td>\n",
       "      <td>Low Fat</td>\n",
       "      <td>0.016047</td>\n",
       "      <td>Dairy</td>\n",
       "      <td>249.8</td>\n",
       "      <td>OUT049</td>\n",
       "      <td>1999</td>\n",
       "      <td>Medium</td>\n",
       "      <td>Tier 2</td>\n",
       "      <td>Supermarket Type1</td>\n",
       "      <td>3735.1380</td>\n",
       "      <td>11.5</td>\n",
       "    </tr>\n",
       "    <tr>\n",
       "      <th>1</th>\n",
       "      <td>DRC01</td>\n",
       "      <td>5.920</td>\n",
       "      <td>Regular</td>\n",
       "      <td>0.019278</td>\n",
       "      <td>Soft Drinks</td>\n",
       "      <td>48.3</td>\n",
       "      <td>OUT018</td>\n",
       "      <td>2009</td>\n",
       "      <td>Medium</td>\n",
       "      <td>Tier 2</td>\n",
       "      <td>Supermarket Type2</td>\n",
       "      <td>443.4228</td>\n",
       "      <td>14.3</td>\n",
       "    </tr>\n",
       "    <tr>\n",
       "      <th>2</th>\n",
       "      <td>FDN15</td>\n",
       "      <td>17.500</td>\n",
       "      <td>Low Fat</td>\n",
       "      <td>0.016760</td>\n",
       "      <td>Meat</td>\n",
       "      <td>141.6</td>\n",
       "      <td>OUT049</td>\n",
       "      <td>1999</td>\n",
       "      <td>Medium</td>\n",
       "      <td>Tier 2</td>\n",
       "      <td>Supermarket Type1</td>\n",
       "      <td>2097.2700</td>\n",
       "      <td>14.5</td>\n",
       "    </tr>\n",
       "    <tr>\n",
       "      <th>3</th>\n",
       "      <td>FDX07</td>\n",
       "      <td>19.200</td>\n",
       "      <td>Regular</td>\n",
       "      <td>0.000000</td>\n",
       "      <td>Fruits and Vegetables</td>\n",
       "      <td>182.1</td>\n",
       "      <td>OUT010</td>\n",
       "      <td>1998</td>\n",
       "      <td>NaN</td>\n",
       "      <td>NaN</td>\n",
       "      <td>Grocery Store</td>\n",
       "      <td>732.3800</td>\n",
       "      <td>13.6</td>\n",
       "    </tr>\n",
       "    <tr>\n",
       "      <th>4</th>\n",
       "      <td>NCD19</td>\n",
       "      <td>8.930</td>\n",
       "      <td>Low Fat</td>\n",
       "      <td>0.000000</td>\n",
       "      <td>Household</td>\n",
       "      <td>53.9</td>\n",
       "      <td>OUT013</td>\n",
       "      <td>1987</td>\n",
       "      <td>High</td>\n",
       "      <td>Tier 3</td>\n",
       "      <td>Supermarket Type1</td>\n",
       "      <td>994.7052</td>\n",
       "      <td>14.1</td>\n",
       "    </tr>\n",
       "    <tr>\n",
       "      <th>...</th>\n",
       "      <td>...</td>\n",
       "      <td>...</td>\n",
       "      <td>...</td>\n",
       "      <td>...</td>\n",
       "      <td>...</td>\n",
       "      <td>...</td>\n",
       "      <td>...</td>\n",
       "      <td>...</td>\n",
       "      <td>...</td>\n",
       "      <td>...</td>\n",
       "      <td>...</td>\n",
       "      <td>...</td>\n",
       "      <td>...</td>\n",
       "    </tr>\n",
       "    <tr>\n",
       "      <th>8518</th>\n",
       "      <td>FDF22</td>\n",
       "      <td>6.865</td>\n",
       "      <td>Low Fat</td>\n",
       "      <td>0.056783</td>\n",
       "      <td>Snack Foods</td>\n",
       "      <td>214.5</td>\n",
       "      <td>OUT013</td>\n",
       "      <td>1987</td>\n",
       "      <td>High</td>\n",
       "      <td>Tier 3</td>\n",
       "      <td>Supermarket Type1</td>\n",
       "      <td>2778.3834</td>\n",
       "      <td>14.1</td>\n",
       "    </tr>\n",
       "    <tr>\n",
       "      <th>8519</th>\n",
       "      <td>FDS36</td>\n",
       "      <td>8.380</td>\n",
       "      <td>Regular</td>\n",
       "      <td>0.046982</td>\n",
       "      <td>Baking Goods</td>\n",
       "      <td>108.2</td>\n",
       "      <td>OUT045</td>\n",
       "      <td>2002</td>\n",
       "      <td>NaN</td>\n",
       "      <td>NaN</td>\n",
       "      <td>Supermarket Type1</td>\n",
       "      <td>549.2850</td>\n",
       "      <td>14.2</td>\n",
       "    </tr>\n",
       "    <tr>\n",
       "      <th>8520</th>\n",
       "      <td>NCJ29</td>\n",
       "      <td>10.600</td>\n",
       "      <td>Low Fat</td>\n",
       "      <td>0.035186</td>\n",
       "      <td>Health and Hygiene</td>\n",
       "      <td>85.1</td>\n",
       "      <td>OUT035</td>\n",
       "      <td>2004</td>\n",
       "      <td>Small</td>\n",
       "      <td>Tier1</td>\n",
       "      <td>Supermarket Type1</td>\n",
       "      <td>1193.1136</td>\n",
       "      <td>9.5</td>\n",
       "    </tr>\n",
       "    <tr>\n",
       "      <th>8521</th>\n",
       "      <td>FDN46</td>\n",
       "      <td>7.210</td>\n",
       "      <td>Regular</td>\n",
       "      <td>0.145221</td>\n",
       "      <td>Snack Foods</td>\n",
       "      <td>103.1</td>\n",
       "      <td>OUT018</td>\n",
       "      <td>2009</td>\n",
       "      <td>Medium</td>\n",
       "      <td>Tier 2</td>\n",
       "      <td>Supermarket Type2</td>\n",
       "      <td>1845.5976</td>\n",
       "      <td>14.2</td>\n",
       "    </tr>\n",
       "    <tr>\n",
       "      <th>8522</th>\n",
       "      <td>DRG01</td>\n",
       "      <td>14.800</td>\n",
       "      <td>Low Fat</td>\n",
       "      <td>0.044878</td>\n",
       "      <td>Soft Drinks</td>\n",
       "      <td>75.5</td>\n",
       "      <td>OUT046</td>\n",
       "      <td>1997</td>\n",
       "      <td>Small</td>\n",
       "      <td>Tier1</td>\n",
       "      <td>Supermarket Type1</td>\n",
       "      <td>765.6700</td>\n",
       "      <td>14.6</td>\n",
       "    </tr>\n",
       "  </tbody>\n",
       "</table>\n",
       "<p>8523 rows × 13 columns</p>\n",
       "</div>"
      ],
      "text/plain": [
       "     Item_Identifier  Item_Weight Item_Fat_Content  Item_Visibility  \\\n",
       "0              FDA15        9.300          Low Fat         0.016047   \n",
       "1              DRC01        5.920          Regular         0.019278   \n",
       "2              FDN15       17.500          Low Fat         0.016760   \n",
       "3              FDX07       19.200          Regular         0.000000   \n",
       "4              NCD19        8.930          Low Fat         0.000000   \n",
       "...              ...          ...              ...              ...   \n",
       "8518           FDF22        6.865          Low Fat         0.056783   \n",
       "8519           FDS36        8.380          Regular         0.046982   \n",
       "8520           NCJ29       10.600          Low Fat         0.035186   \n",
       "8521           FDN46        7.210          Regular         0.145221   \n",
       "8522           DRG01       14.800          Low Fat         0.044878   \n",
       "\n",
       "                  Item_Type  Item_MRP Outlet_Identifier  \\\n",
       "0                     Dairy     249.8            OUT049   \n",
       "1               Soft Drinks      48.3            OUT018   \n",
       "2                      Meat     141.6            OUT049   \n",
       "3     Fruits and Vegetables     182.1            OUT010   \n",
       "4                 Household      53.9            OUT013   \n",
       "...                     ...       ...               ...   \n",
       "8518            Snack Foods     214.5            OUT013   \n",
       "8519           Baking Goods     108.2            OUT045   \n",
       "8520     Health and Hygiene      85.1            OUT035   \n",
       "8521            Snack Foods     103.1            OUT018   \n",
       "8522            Soft Drinks      75.5            OUT046   \n",
       "\n",
       "      Outlet_Establishment_Year Outlet_Size Outlet_Location_Type  \\\n",
       "0                          1999      Medium               Tier 2   \n",
       "1                          2009      Medium               Tier 2   \n",
       "2                          1999      Medium               Tier 2   \n",
       "3                          1998         NaN                  NaN   \n",
       "4                          1987        High               Tier 3   \n",
       "...                         ...         ...                  ...   \n",
       "8518                       1987        High               Tier 3   \n",
       "8519                       2002         NaN                  NaN   \n",
       "8520                       2004       Small                Tier1   \n",
       "8521                       2009      Medium               Tier 2   \n",
       "8522                       1997       Small                Tier1   \n",
       "\n",
       "            Outlet_Type  Item_Outlet_Sales  Profit  \n",
       "0     Supermarket Type1          3735.1380    11.5  \n",
       "1     Supermarket Type2           443.4228    14.3  \n",
       "2     Supermarket Type1          2097.2700    14.5  \n",
       "3         Grocery Store           732.3800    13.6  \n",
       "4     Supermarket Type1           994.7052    14.1  \n",
       "...                 ...                ...     ...  \n",
       "8518  Supermarket Type1          2778.3834    14.1  \n",
       "8519  Supermarket Type1           549.2850    14.2  \n",
       "8520  Supermarket Type1          1193.1136     9.5  \n",
       "8521  Supermarket Type2          1845.5976    14.2  \n",
       "8522  Supermarket Type1           765.6700    14.6  \n",
       "\n",
       "[8523 rows x 13 columns]"
      ]
     },
     "execution_count": 78,
     "metadata": {},
     "output_type": "execute_result"
    }
   ],
   "source": [
    "df1"
   ]
  },
  {
   "cell_type": "code",
   "execution_count": 82,
   "id": "bffd11ee-90b3-445a-ab25-79c60e995f5c",
   "metadata": {},
   "outputs": [
    {
     "data": {
      "text/plain": [
       "Item_Identifier              8523\n",
       "Item_Weight                  7774\n",
       "Item_Fat_Content             8523\n",
       "Item_Visibility              8523\n",
       "Item_Type                    8523\n",
       "Item_MRP                     8523\n",
       "Outlet_Identifier            8523\n",
       "Outlet_Establishment_Year    8523\n",
       "Outlet_Size                  6113\n",
       "Outlet_Location_Type         6473\n",
       "Outlet_Type                  8523\n",
       "Item_Outlet_Sales            8523\n",
       "Profit                       8523\n",
       "dtype: int64"
      ]
     },
     "execution_count": 82,
     "metadata": {},
     "output_type": "execute_result"
    }
   ],
   "source": [
    "df1.count()"
   ]
  },
  {
   "cell_type": "code",
   "execution_count": 84,
   "id": "f3094a68-1e1d-4100-b508-86cfdfb85e08",
   "metadata": {},
   "outputs": [
    {
     "data": {
      "text/plain": [
       "Item_Identifier               0.000000\n",
       "Item_Weight                   8.787985\n",
       "Item_Fat_Content              0.000000\n",
       "Item_Visibility               0.000000\n",
       "Item_Type                     0.000000\n",
       "Item_MRP                      0.000000\n",
       "Outlet_Identifier             0.000000\n",
       "Outlet_Establishment_Year     0.000000\n",
       "Outlet_Size                  28.276428\n",
       "Outlet_Location_Type         24.052564\n",
       "Outlet_Type                   0.000000\n",
       "Item_Outlet_Sales             0.000000\n",
       "Profit                        0.000000\n",
       "dtype: float64"
      ]
     },
     "execution_count": 84,
     "metadata": {},
     "output_type": "execute_result"
    }
   ],
   "source": [
    "df1.isnull().sum()/len(df1) *100 #Percentage of NULL column wise"
   ]
  },
  {
   "cell_type": "code",
   "execution_count": 88,
   "id": "59b7b848-4e58-4ed7-8cdf-dabe9c591344",
   "metadata": {},
   "outputs": [
    {
     "data": {
      "text/plain": [
       "11.676739773604321"
      ]
     },
     "execution_count": 88,
     "metadata": {},
     "output_type": "execute_result"
    }
   ],
   "source": [
    "df1['Item_Weight'].mean()"
   ]
  },
  {
   "cell_type": "code",
   "execution_count": 92,
   "id": "0b7f3c51-eaa0-4ea3-972f-6a4116ad5551",
   "metadata": {},
   "outputs": [
    {
     "data": {
      "text/plain": [
       "1559"
      ]
     },
     "execution_count": 92,
     "metadata": {},
     "output_type": "execute_result"
    }
   ],
   "source": [
    "df1['Item_Identifier'].nunique() #Number of Unique Values"
   ]
  },
  {
   "cell_type": "code",
   "execution_count": 94,
   "id": "bb840844-d251-4efe-b12d-89ef732d2684",
   "metadata": {},
   "outputs": [
    {
     "data": {
      "text/plain": [
       "0    FDA15\n",
       "1    DRC01\n",
       "2    FDN15\n",
       "3    FDX07\n",
       "4    NCD19\n",
       "5    FDP36\n",
       "6    FDO10\n",
       "7    FDP10\n",
       "8    FDH17\n",
       "9    FDU28\n",
       "Name: Item_Identifier, dtype: object"
      ]
     },
     "execution_count": 94,
     "metadata": {},
     "output_type": "execute_result"
    }
   ],
   "source": [
    "df1['Item_Identifier'].head(10)"
   ]
  },
  {
   "cell_type": "code",
   "execution_count": 104,
   "id": "69279d5a-9a11-4e4a-a7f5-2ac7b97dcae4",
   "metadata": {},
   "outputs": [],
   "source": [
    "col = 'Outlet_Location_Type'"
   ]
  },
  {
   "cell_type": "code",
   "execution_count": 124,
   "id": "6c6eb570-8384-4e5c-84e9-66f2c83d81be",
   "metadata": {},
   "outputs": [
    {
     "name": "stdout",
     "output_type": "stream",
     "text": [
      "8\n",
      "['Tier 2' nan 'Tier 3' '  --' 'Tier1' 'na' '  -' '?' 'NAN']\n"
     ]
    }
   ],
   "source": [
    "print(df1[col].nunique()) #Number of Unique values\n",
    "print(df1[col].unique()) #Unique value output"
   ]
  },
  {
   "cell_type": "code",
   "execution_count": 110,
   "id": "0f0bc0ed-4876-4ff7-9d75-529ee1a5d606",
   "metadata": {},
   "outputs": [
    {
     "data": {
      "text/plain": [
       "2050"
      ]
     },
     "execution_count": 110,
     "metadata": {},
     "output_type": "execute_result"
    }
   ],
   "source": [
    "df1[col].isnull().sum()"
   ]
  },
  {
   "cell_type": "code",
   "execution_count": 122,
   "id": "a85487c1-d2e4-4d8d-9962-ef60708ad3a7",
   "metadata": {},
   "outputs": [],
   "source": [
    "df1['Outlet_Location_Type_New'] = df1[col].replace({'  --':np.nan, 'na':np.nan, '  -':np.nan,'NAN': np.nan,'?':np.nan}) \n",
    "#Create a new column and replace missing values with np.nan"
   ]
  },
  {
   "cell_type": "code",
   "execution_count": 126,
   "id": "2e716b73-eaa6-429c-902b-8f4b462de78a",
   "metadata": {},
   "outputs": [
    {
     "name": "stdout",
     "output_type": "stream",
     "text": [
      "3\n",
      "['Tier 2' nan 'Tier 3' 'Tier1']\n",
      "2410\n"
     ]
    }
   ],
   "source": [
    "col2 = 'Outlet_Location_Type_New'\n",
    "print(df1[col2].nunique()) #Number of Unique values\n",
    "print(df1[col2].unique()) #Unique values\n",
    "print(df1[col2].isnull().sum()) #Total number of Standar NULL Value"
   ]
  },
  {
   "cell_type": "code",
   "execution_count": 132,
   "id": "24ad2fed-b9f4-4079-a4d5-d493c67f6227",
   "metadata": {},
   "outputs": [],
   "source": [
    "df1['Outlet_Location_Type_New'] = df1['Outlet_Location_Type_New'].fillna('Unknown') \n",
    "#Replace NULL Value is .fillna() function with \"UNKNOWN\""
   ]
  },
  {
   "cell_type": "code",
   "execution_count": 130,
   "id": "7c405aad-cf7a-455c-8466-4f8ac462d067",
   "metadata": {},
   "outputs": [
    {
     "name": "stdout",
     "output_type": "stream",
     "text": [
      "4\n",
      "['Tier 2' 'Unknown' 'Tier 3' 'Tier1']\n",
      "0\n"
     ]
    }
   ],
   "source": [
    "print(df1[col2].nunique()) #Number of Unique values\n",
    "print(df1[col2].unique()) #Unique values\n",
    "print(df1[col2].isnull().sum()) #Total number of Standar NULL Value"
   ]
  },
  {
   "cell_type": "code",
   "execution_count": 100,
   "id": "97e550b9-bc14-4ca0-9339-ae1f086349f5",
   "metadata": {},
   "outputs": [
    {
     "data": {
      "text/plain": [
       "array(['Dairy', 'Soft Drinks', 'Meat', 'Fruits and Vegetables',\n",
       "       'Household', 'Baking Goods', 'Snack Foods', 'Frozen Foods',\n",
       "       'Breakfast', 'Health and Hygiene', 'Hard Drinks', 'Canned',\n",
       "       'Breads', 'Starchy Foods', 'Others', 'Seafood'], dtype=object)"
      ]
     },
     "execution_count": 100,
     "metadata": {},
     "output_type": "execute_result"
    }
   ],
   "source": [
    "df1['Item_Type'].unique() #Return Unique Values"
   ]
  },
  {
   "cell_type": "code",
   "execution_count": 134,
   "id": "f1a35b87-4074-49bf-9892-ac5cb45e5771",
   "metadata": {},
   "outputs": [
    {
     "data": {
      "text/plain": [
       "749"
      ]
     },
     "execution_count": 134,
     "metadata": {},
     "output_type": "execute_result"
    }
   ],
   "source": [
    "df1['Item_Weight'].isnull().sum()"
   ]
  },
  {
   "cell_type": "code",
   "execution_count": 154,
   "id": "ccaec6d1-7b7c-4856-a8cd-e554c61e4142",
   "metadata": {},
   "outputs": [
    {
     "name": "stdout",
     "output_type": "stream",
     "text": [
      "11.8\n",
      "0\n",
      "0\n"
     ]
    },
    {
     "data": {
      "text/plain": [
       "416"
      ]
     },
     "execution_count": 154,
     "metadata": {},
     "output_type": "execute_result"
    }
   ],
   "source": [
    "df1['Item_Weight_1'] = df1['Item_Weight'].fillna(0) #If '0' is a valid number we can use it\n",
    "item_weight_median = df1['Item_Weight'].median()\n",
    "print(item_weight_median)\n",
    "df1['Item_Weight_2'] = df1['Item_Weight'].fillna(item_weight_median) #If Outliers there, use median\n",
    "print(df1['Item_Weight_1'].isnull().sum())\n",
    "print(df1['Item_Weight_2'].isnull().sum())\n",
    "df1['Item_Weight_1'].nunique()"
   ]
  },
  {
   "cell_type": "code",
   "execution_count": 148,
   "id": "5118d7c0-b13e-4a3e-97da-4b16282fda3e",
   "metadata": {},
   "outputs": [
    {
     "data": {
      "text/plain": [
       "array(['Medium', nan, 'High', 'Small'], dtype=object)"
      ]
     },
     "execution_count": 148,
     "metadata": {},
     "output_type": "execute_result"
    }
   ],
   "source": [
    "df1['Outlet_Size'].isnull().sum()\n",
    "df1['Outlet_Size'].nunique()\n",
    "df1['Outlet_Size'].unique()"
   ]
  },
  {
   "cell_type": "code",
   "execution_count": 156,
   "id": "cba94410-61b5-476f-b040-60d37afb7c11",
   "metadata": {},
   "outputs": [
    {
     "name": "stdout",
     "output_type": "stream",
     "text": [
      "0\n"
     ]
    },
    {
     "data": {
      "text/plain": [
       "array(['Medium', 'unknown', 'High', 'Small'], dtype=object)"
      ]
     },
     "execution_count": 156,
     "metadata": {},
     "output_type": "execute_result"
    }
   ],
   "source": [
    "df1['Outlet_Size_New'] = df1['Outlet_Size'].fillna('unknown')\n",
    "print(df1['Outlet_Size_New'].isnull().sum())\n",
    "df1['Outlet_Size_New'].nunique()\n",
    "df1['Outlet_Size_New'].unique()"
   ]
  },
  {
   "cell_type": "markdown",
   "id": "eb768c49-aa3e-4612-84b8-ba4a7e0234f4",
   "metadata": {},
   "source": [
    "## Encoding Categorical Values"
   ]
  },
  {
   "cell_type": "markdown",
   "id": "859c33fb-c0bd-4482-9210-08cd16f7e23c",
   "metadata": {},
   "source": [
    "### * Label Encoding\n",
    "### * One Hot Encoding"
   ]
  },
  {
   "cell_type": "code",
   "execution_count": null,
   "id": "b1d63852-0ec5-4471-91ec-a5f5aef21c9d",
   "metadata": {},
   "outputs": [],
   "source": []
  }
 ],
 "metadata": {
  "kernelspec": {
   "display_name": "Python 3 (ipykernel)",
   "language": "python",
   "name": "python3"
  },
  "language_info": {
   "codemirror_mode": {
    "name": "ipython",
    "version": 3
   },
   "file_extension": ".py",
   "mimetype": "text/x-python",
   "name": "python",
   "nbconvert_exporter": "python",
   "pygments_lexer": "ipython3",
   "version": "3.12.4"
  }
 },
 "nbformat": 4,
 "nbformat_minor": 5
}
