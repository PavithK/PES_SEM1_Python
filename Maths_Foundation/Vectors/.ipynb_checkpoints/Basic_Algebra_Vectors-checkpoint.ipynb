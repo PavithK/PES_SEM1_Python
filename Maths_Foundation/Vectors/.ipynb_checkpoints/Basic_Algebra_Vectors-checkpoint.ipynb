{
 "cells": [
  {
   "cell_type": "code",
   "execution_count": 1,
   "id": "ca48d307-7dc1-4f6d-9b80-3df7de7e960c",
   "metadata": {},
   "outputs": [],
   "source": [
    "import numpy as np"
   ]
  },
  {
   "cell_type": "code",
   "execution_count": 3,
   "id": "6c55d8c2-edf3-49d1-a3cf-83a39f84277f",
   "metadata": {},
   "outputs": [],
   "source": [
    "u=np.array([3,4])\n",
    "v=np.array([30,40])"
   ]
  },
  {
   "cell_type": "code",
   "execution_count": 5,
   "id": "415de520-5e22-44a9-b643-05ceae001ca7",
   "metadata": {},
   "outputs": [
    {
     "name": "stdout",
     "output_type": "stream",
     "text": [
      "5.0\n"
     ]
    }
   ],
   "source": [
    "#Length / magnitude of vector\n",
    "print(np.linalg.norm(u))"
   ]
  },
  {
   "cell_type": "code",
   "execution_count": 7,
   "id": "ad4dc14a-1872-4bff-a94f-35da4569158f",
   "metadata": {},
   "outputs": [
    {
     "name": "stdout",
     "output_type": "stream",
     "text": [
      "50.0\n"
     ]
    }
   ],
   "source": [
    "print(np.linalg.norm(v))"
   ]
  },
  {
   "cell_type": "code",
   "execution_count": 17,
   "id": "f75b3390-d38e-44e4-965a-31a1ed38fe3a",
   "metadata": {},
   "outputs": [],
   "source": [
    "#Direction of the vectors\n",
    "def direction(x):\n",
    "    return x/np.linalg.norm(x)"
   ]
  },
  {
   "cell_type": "code",
   "execution_count": 19,
   "id": "45b1739c-11b0-48f4-bb4e-337266821e5b",
   "metadata": {},
   "outputs": [
    {
     "name": "stdout",
     "output_type": "stream",
     "text": [
      "[0.6 0.8]\n"
     ]
    }
   ],
   "source": [
    "w = direction(u)\n",
    "print(w)"
   ]
  },
  {
   "cell_type": "code",
   "execution_count": 23,
   "id": "19cbbc0e-db70-4be9-9c93-a62bad98e987",
   "metadata": {},
   "outputs": [
    {
     "name": "stdout",
     "output_type": "stream",
     "text": [
      "[0.6 0.8]\n"
     ]
    }
   ],
   "source": [
    "v = v/np.linalg.norm(v)\n",
    "print(v)"
   ]
  },
  {
   "cell_type": "code",
   "execution_count": 27,
   "id": "8b87cbc7-adcd-48d0-8525-f73f2b737eb8",
   "metadata": {},
   "outputs": [
    {
     "name": "stdout",
     "output_type": "stream",
     "text": [
      "1.0\n"
     ]
    }
   ],
   "source": [
    "print(np.linalg.norm(w))"
   ]
  },
  {
   "cell_type": "code",
   "execution_count": 29,
   "id": "a2c1fb08-ab6c-491a-b81d-6ff1cb8989d0",
   "metadata": {},
   "outputs": [],
   "source": [
    "import math\n",
    "\n",
    "def geometric_dot_product(x,y,theta):\n",
    "    return np.linalg.norm(x)*np.linalg.norm(y)* math.cos(math.radians(theta))"
   ]
  },
  {
   "cell_type": "code",
   "execution_count": 31,
   "id": "7453ed0b-f835-46d6-a61d-a67b8e4772e7",
   "metadata": {},
   "outputs": [
    {
     "name": "stdout",
     "output_type": "stream",
     "text": [
      "24.041630560342625\n"
     ]
    }
   ],
   "source": [
    "theta = 60\n",
    "x = [3,5]\n",
    "y=[8,2]\n",
    "\n",
    "print(geometric_dot_product(x,y,theta))"
   ]
  },
  {
   "cell_type": "code",
   "execution_count": null,
   "id": "81cc7172-8e50-4af1-8dd1-9e15e44a342d",
   "metadata": {},
   "outputs": [],
   "source": []
  }
 ],
 "metadata": {
  "kernelspec": {
   "display_name": "Python 3 (ipykernel)",
   "language": "python",
   "name": "python3"
  },
  "language_info": {
   "codemirror_mode": {
    "name": "ipython",
    "version": 3
   },
   "file_extension": ".py",
   "mimetype": "text/x-python",
   "name": "python",
   "nbconvert_exporter": "python",
   "pygments_lexer": "ipython3",
   "version": "3.12.4"
  }
 },
 "nbformat": 4,
 "nbformat_minor": 5
}
